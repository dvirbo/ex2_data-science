{
 "cells": [
  {
   "cell_type": "code",
   "execution_count": 13,
   "metadata": {
    "collapsed": false
   },
   "outputs": [],
   "source": [
    "import pandas as pd\n",
    "import logging\n",
    "\n",
    "logger = logging.getLogger(__name__)\n",
    "# Load the CSV file\n",
    "file_path = 'full_cohort_data.csv'\n",
    "df = pd.read_csv(file_path)"
   ]
  },
  {
   "cell_type": "code",
   "execution_count": 14,
   "metadata": {
    "collapsed": false,
    "pycharm": {
     "is_executing": true
    }
   },
   "outputs": [],
   "source": [
    "# Keep track of columns to be removed\n",
    "removed_columns = []\n",
    "\n",
    "# Identify and remove columns that have only 0 (zeros) in them\n",
    "zero_columns = df.columns[(df == 0).all()]\n",
    "logger.debug(f\"Zero columns: {zero_columns}\")\n",
    "removed_columns.extend(zero_columns)\n",
    "df = df.loc[:, (df != 0).any(axis=0)]\n",
    "\n",
    "# Identify and remove columns that have non-numeric values\n",
    "non_numeric_columns = df.select_dtypes(exclude=[int, float]).columns\n",
    "removed_columns.extend(non_numeric_columns)\n",
    "df = df.select_dtypes(include=[int, float])\n",
    "\n",
    "# Identify and remove columns that have more than 100 missing values\n",
    "missing_value_columns = df.columns[df.isnull().sum() > 100]\n",
    "removed_columns.extend(missing_value_columns)\n",
    "df = df.dropna(thresh=df.shape[0] - 100, axis=1)\n",
    "\n",
    "# Save the cleaned DataFrame back to the CSV file\n",
    "df.to_csv(file_path, index=False)"
   ]
  },
  {
   "cell_type": "markdown",
   "metadata": {
    "collapsed": false
   },
   "source": [
    "i removed the columns that had only 0 in it.\n",
    "i removed the columns that had a non-numerical values.\n",
    "i removed the columns that had more than 100 missing values.\n",
    "the columns that i removed so far are: 'weight_first', 'bmi', 'service_unit', 'day_icu_intime', 'sepsis_flg', 'po2_first', 'pco2_first, 'days_28_flg'.   "
   ]
  },
  {
   "cell_type": "code",
   "execution_count": null,
   "metadata": {},
   "outputs": [],
   "source": [
    "relevant = [\"\", \"hosp_exp_flg\", \"icu_exp_flg\", \"mort_day_censored\", \"censor_flg\" ,\"hour_icu_intime\", 'map_1st' , \"hospital_los_day\",  \"icu_los_day\" ]\n",
    "print(df.columns)\n",
    "for column in relevant:\n",
    "    if column in df.columns:\n",
    "        removed_columns.append(column)\n",
    "        df = df.drop(columns=[column])\n",
    "   \n",
    "        print(f\"Removed column: {column}\")\n",
    "    else:\n",
    "       print(f\"Column not found: {column}\")                "
   ]
  },
  {
   "cell_type": "markdown",
   "metadata": {},
   "source": [
    "I removed columns that directly indicated survival outcomes. The purpose of the exercise is to predict human survival based on data. These columns give a sure prediction, so I removed them. \n",
    "the columns I removed here are:"
   ]
  }
 ],
 "metadata": {
  "kernelspec": {
   "display_name": "Python 3",
   "language": "python",
   "name": "python3"
  },
  "language_info": {
   "codemirror_mode": {
    "name": "ipython",
    "version": 3
   },
   "file_extension": ".py",
   "mimetype": "text/x-python",
   "name": "python",
   "nbconvert_exporter": "python",
   "pygments_lexer": "ipython3",
   "version": "3.11.9"
  }
 },
 "nbformat": 4,
 "nbformat_minor": 0
}
